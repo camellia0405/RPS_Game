{
 "cells": [
  {
   "cell_type": "code",
   "execution_count": 1,
   "id": "11e347c4-d152-4594-94e8-a8b1e77c518a",
   "metadata": {},
   "outputs": [],
   "source": [
    "import random\n",
    "\n",
    "# じゃんけんの手の選択肢\n",
    "choices = [\"グー\", \"チョキ\", \"パー\"]"
   ]
  },
  {
   "cell_type": "code",
   "execution_count": 2,
   "id": "a15228d8-446e-4446-a941-375da13c1ca5",
   "metadata": {},
   "outputs": [],
   "source": [
    "# 勝ち負け引き分けの処理\n",
    "def winner(user_choice, computer_choice):\n",
    "    if user_choice == computer_choice:\n",
    "        return \"引き分け\"\n",
    "    elif (user_choice == \"グー\" and computer_choice == \"チョキ\") or \\\n",
    "         (user_choice == \"チョキ\" and computer_choice == \"パー\") or \\\n",
    "         (user_choice == \"パー\" and computer_choice == \"グー\"):\n",
    "        return \"あなたの勝ち!\"\n",
    "    else:\n",
    "        return \"コンピュータの勝ち!\""
   ]
  },
  {
   "cell_type": "code",
   "execution_count": 3,
   "id": "cffa2fe1-c5b2-4928-929b-e88198c72b69",
   "metadata": {},
   "outputs": [],
   "source": [
    "# ゲームプレイの処理\n",
    "def play_game():\n",
    "    print(\"じゃんけんゲームへようこそ!\")\n",
    "    print(\"選択肢: グー, チョキ, パー\")\n",
    "    \n",
    "    user_choice = input(\"あなたの手を入力してください: \")\n",
    "    if user_choice not in choices:\n",
    "        print(\"無効な選択です。もう一度やり直してください。\")\n",
    "        return\n",
    "    \n",
    "    computer_choice = random.choice(choices)\n",
    "    print(f\"コンピュータの選んだ手: {computer_choice}\")\n",
    "    \n",
    "    result = winner(user_choice, computer_choice)\n",
    "    print(result)"
   ]
  },
  {
   "cell_type": "code",
   "execution_count": 8,
   "id": "34da31e4-926e-40b5-a7ae-3c83d91d413d",
   "metadata": {},
   "outputs": [
    {
     "name": "stdout",
     "output_type": "stream",
     "text": [
      "じゃんけんゲームへようこそ!\n",
      "選択肢: グー, チョキ, パー\n"
     ]
    },
    {
     "name": "stdin",
     "output_type": "stream",
     "text": [
      "あなたの手を入力してください:  パー\n"
     ]
    },
    {
     "name": "stdout",
     "output_type": "stream",
     "text": [
      "コンピュータの選んだ手: パー\n",
      "引き分け\n"
     ]
    }
   ],
   "source": [
    "# ゲームをプレイ\n",
    "play_game()"
   ]
  },
  {
   "cell_type": "code",
   "execution_count": null,
   "id": "14709368-7964-4e10-8c0a-1c345e0e1c3e",
   "metadata": {},
   "outputs": [],
   "source": []
  }
 ],
 "metadata": {
  "kernelspec": {
   "display_name": "Python 3 (ipykernel)",
   "language": "python",
   "name": "python3"
  },
  "language_info": {
   "codemirror_mode": {
    "name": "ipython",
    "version": 3
   },
   "file_extension": ".py",
   "mimetype": "text/x-python",
   "name": "python",
   "nbconvert_exporter": "python",
   "pygments_lexer": "ipython3",
   "version": "3.12.5"
  }
 },
 "nbformat": 4,
 "nbformat_minor": 5
}
